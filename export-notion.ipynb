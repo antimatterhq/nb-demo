{
 "cells": [
  {
   "cell_type": "code",
   "execution_count": 1,
   "id": "initial_id",
   "metadata": {
    "collapsed": true,
    "ExecuteTime": {
     "end_time": "2024-01-11T00:15:53.347482Z",
     "start_time": "2024-01-11T00:15:48.582998Z"
    }
   },
   "outputs": [],
   "source": [
    "import json\n",
    "from notion_utils import NotionExporter\n",
    "\n",
    "notion_access_token = \"secret_x30B8yR4uF8Uvf6yJyHCMRdoQjvkTHP7J9aEXXc9AKM\"\n",
    "notion_page_root = \"https://www.notion.so/antimatterhq/Acme-Co-Wiki-0946de2c38e44cb2b67953d667225480\"\n",
    "exporter = NotionExporter(notion_access_token)\n",
    "knowledebase = exporter.notion_recursive_load(notion_page_root)\n",
    "with open(\"notion.json\",\"w\") as f:\n",
    "    json.dump(knowledebase, f, indent=2)"
   ]
  },
  {
   "cell_type": "code",
   "outputs": [],
   "source": [],
   "metadata": {
    "collapsed": false
   },
   "id": "6c38f693d0547a70"
  }
 ],
 "metadata": {
  "kernelspec": {
   "display_name": "Python 3",
   "language": "python",
   "name": "python3"
  },
  "language_info": {
   "codemirror_mode": {
    "name": "ipython",
    "version": 2
   },
   "file_extension": ".py",
   "mimetype": "text/x-python",
   "name": "python",
   "nbconvert_exporter": "python",
   "pygments_lexer": "ipython2",
   "version": "2.7.6"
  }
 },
 "nbformat": 4,
 "nbformat_minor": 5
}
