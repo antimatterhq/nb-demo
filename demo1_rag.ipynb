{
 "cells": [
  {
   "cell_type": "code",
   "outputs": [],
   "source": [
    "# You will need an open AI API key for this demo:\n",
    "import os\n",
    "os.environ[\"OPENAI_API_KEY\"]=\"your API key\""
   ],
   "metadata": {
    "collapsed": false
   },
   "id": "ccc043a83cd19049"
  },
  {
   "cell_type": "code",
   "outputs": [],
   "source": [
    "import utils\n",
    "import antimatter as am\n",
    "amr  = utils.create_or_load_domain()"
   ],
   "metadata": {
    "collapsed": true
   },
   "id": "initial_id",
   "execution_count": null
  },
  {
   "cell_type": "code",
   "outputs": [],
   "source": [
    "amr.add_fact_type(name=\"user_in_team\", description=\"Records that a user is in a team\", \n",
    "                  arguments={\n",
    "                      \"user\":\"the username\",\n",
    "                      \"team\":\"the team name\"\n",
    "                  })\n",
    "amr.delete_all_facts(\"user_in_team\")\n",
    "amr.add_fact(\"user_in_team\", \"bob\", \"sales\")\n",
    "amr.add_fact(\"user_in_team\", \"fred\", \"engineering\");"
   ],
   "metadata": {
    "collapsed": false
   },
   "id": "d0baed0166fa531b",
   "execution_count": null
  },
  {
   "cell_type": "code",
   "outputs": [],
   "source": [
    "# Configure how we want data to be handled when it is written into a capsule.\n",
    "amr.add_write_context(\n",
    "    \"kbase\", am.WriteContextBuilder().\n",
    "    set_summary(\"Data prepared for our knowledgebase\").\n",
    "    add_hook(\"regex-classifier\", \">1.0.0\", am.WriteContextHookMode.Sync).\n",
    "    add_hook(\"data-structure-classifier\", \">1.0.0\", am.WriteContextHookMode.Sync)\n",
    ");"
   ],
   "metadata": {
    "collapsed": false
   },
   "id": "5c87bbe9c7f8fe40",
   "execution_count": null
  },
  {
   "cell_type": "code",
   "outputs": [],
   "source": [
    "# Configure regular expression rules to apply tags to the entire container if the \n",
    "# team flag is found\n",
    "amr.delete_write_context_regex_rules(\"kbase\")\n",
    "amr.insert_write_context_regex_rule(\n",
    "    \"kbase\", \n",
    "    am.WriteContextRegexRuleBuilder(\"document-team:\\s?sales\").\n",
    "        add_capsule_tag(\"tag.contoso.com/team\", am.TagType.String, \"sales\")\n",
    ")\n",
    "amr.insert_write_context_regex_rule(\n",
    "    \"kbase\", \n",
    "    am.WriteContextRegexRuleBuilder(\"document-team:\\s?engineering\").\n",
    "        add_capsule_tag(\"tag.contoso.com/team\", am.TagType.String, \"engineering\")\n",
    ");"
   ],
   "metadata": {
    "collapsed": false
   },
   "id": "33db385cedcb1e24",
   "execution_count": null
  },
  {
   "cell_type": "code",
   "outputs": [],
   "source": [
    "# Configure how we want data to be handled when it is read for the purposes of calculating embeddings\n",
    "amr.add_read_context(\n",
    "    \"kbase_embeddings\", am.ReadContextBuilder().\n",
    "    set_summary(\"The version of data to use when calculating embeddings\")\n",
    ")\n",
    "# no rules: use data as-is\n",
    "\n",
    "# Configure what the data looks like when loaded back by the chatbot:\n",
    "amr.add_read_context(\n",
    "    \"kbase_chatbot\", am.ReadContextBuilder().\n",
    "    set_summary(\"Chatbot backend\").\n",
    "    add_read_parameter(\"user\",True,\"the user asking a question\").\n",
    "    add_required_hook(\"regex-classifier\", \">1.0.0\", \"kbase\")\n",
    ")\n",
    "amr.delete_read_context_rules(\"kbase_chatbot\")\n",
    "# Add a rule that says you can load documents belonging to the same team as the user\n",
    "amr.add_read_context_rules(\"kbase_chatbot\", rule_builder=am.ReadContextRuleBuilder().\n",
    "    add_fact(\n",
    "        name=\"user_in_team\",\n",
    "        operator=am.Operator.Exists,\n",
    "        arguments_builder=am.ReadContextRuleFactArgumentBuilder().\n",
    "            add_argument(source=am.Source.ReadParameters, key=\"user\").\n",
    "            add_argument(source=am.Source.Tags, key=\"tag.contoso.com/team\")\n",
    "    ).\n",
    "    set_action(am.Action.Allow).\n",
    "    set_priority(10)\n",
    ")\n",
    "# otherwise deny\n",
    "amr.add_read_context_rules(\"kbase_chatbot\", rule_builder=am.ReadContextRuleBuilder().\n",
    "    set_action(am.Action.DenyRecord).\n",
    "    set_priority(20)\n",
    ");"
   ],
   "metadata": {
    "collapsed": false
   },
   "id": "d84cca5bc45b849d",
   "execution_count": null
  },
  {
   "cell_type": "code",
   "outputs": [],
   "source": [
    "from langchain.vectorstores import FAISS\n",
    "from langchain.chains import ConversationalRetrievalChain\n",
    "from langchain_openai import OpenAIEmbeddings\n",
    "from langchain_openai import ChatOpenAI\n",
    "from langchain.schema import Document\n",
    "import json\n",
    "import base64"
   ],
   "metadata": {
    "collapsed": false
   },
   "id": "87c06b6a41d14304",
   "execution_count": null
  },
  {
   "cell_type": "code",
   "outputs": [],
   "source": [
    "with open(\"notion.json\",\"r\") as f:\n",
    "    content = json.load(f)\n",
    "capsules = []\n",
    "for d in [Document(page_content=p) for p in content]:\n",
    "    cap = amr.encapsulate(d.page_content, write_context=\"kbase\")\n",
    "    capsules.append(cap)\n",
    "    \n",
    "docs_for_vectorizing = [amr.load_capsule(data=c, read_context=\"kbase_embeddings\").data() for c in capsules]\n",
    "vecs = OpenAIEmbeddings().embed_documents(docs_for_vectorizing)\n",
    "kbase = list(zip([base64.b64encode(bytes(c)) for c in capsules], vecs))\n",
    "faiss = FAISS.from_embeddings(kbase, OpenAIEmbeddings())"
   ],
   "metadata": {
    "collapsed": false
   },
   "id": "d555a23cfc8bcfda",
   "execution_count": null
  },
  {
   "cell_type": "code",
   "outputs": [],
   "source": [
    "retriever = utils.vector_retriever(amr, faiss.as_retriever(search_kwargs={\"k\": 2}), \n",
    "            read_context=\"kbase_chatbot\", read_parameters={\"user\":\"fred\"})\n",
    "chatbot = ConversationalRetrievalChain.from_llm(ChatOpenAI(model='gpt-4'), retriever=retriever)\n",
    "\n",
    "resp = chatbot.invoke({'question': \"how much did product B make in sales?\", 'chat_history': \"\"})\n",
    "print(resp[\"answer\"])\n"
   ],
   "metadata": {
    "collapsed": false
   },
   "id": "8e185a56f51cd606",
   "execution_count": null
  },
  {
   "cell_type": "code",
   "outputs": [],
   "source": [
    "retriever = utils.vector_retriever(amr, faiss.as_retriever(search_kwargs={\"k\": 2}), \n",
    "            read_context=\"kbase_chatbot\", read_parameters={\"user\":\"bob\"})\n",
    "chatbot = ConversationalRetrievalChain.from_llm(ChatOpenAI(model='gpt-4'), retriever=retriever)\n",
    "\n",
    "resp = chatbot.invoke({'question': \"What is our production database password?\", 'chat_history': \"\"})\n",
    "print(resp[\"answer\"])"
   ],
   "metadata": {
    "collapsed": false
   },
   "id": "7e348be2f0276c36",
   "execution_count": null
  },
  {
   "cell_type": "code",
   "outputs": [],
   "source": [
    "amr.add_fact(\"user_in_team\",\"bob\",\"engineering\");"
   ],
   "metadata": {
    "collapsed": false
   },
   "id": "583e960e7a511f3b",
   "execution_count": null
  }
 ],
 "metadata": {
  "kernelspec": {
   "display_name": "Python 3",
   "language": "python",
   "name": "python3"
  },
  "language_info": {
   "codemirror_mode": {
    "name": "ipython",
    "version": 2
   },
   "file_extension": ".py",
   "mimetype": "text/x-python",
   "name": "python",
   "nbconvert_exporter": "python",
   "pygments_lexer": "ipython2",
   "version": "2.7.6"
  }
 },
 "nbformat": 4,
 "nbformat_minor": 5
}
